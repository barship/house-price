{
 "cells": [
  {
   "cell_type": "markdown",
   "metadata": {},
   "source": [
    "## 导入数据"
   ]
  },
  {
   "cell_type": "code",
   "execution_count": 1,
   "metadata": {
    "collapsed": true
   },
   "outputs": [],
   "source": [
    "#导入相关python库\n",
    "#coding:utf-8 \n",
    "import warnings\n",
    "warnings.filterwarnings('ignore')#忽略一些警告\n",
    "\n",
    "import numpy as np\n",
    "import pandas as pd\n",
    "import seaborn as sns\n",
    "import matplotlib.pyplot as plt\n",
    "\n",
    "%matplotlib inline"
   ]
  },
  {
   "cell_type": "code",
   "execution_count": 2,
   "metadata": {
    "collapsed": true
   },
   "outputs": [],
   "source": [
    "# 读取训练集和测试集\n",
    "train = pd.read_csv('train.csv')\n",
    "train_len = len(train)\n",
    "test = pd.read_csv('test.csv')\n"
   ]
  },
  {
   "cell_type": "code",
   "execution_count": 3,
   "metadata": {
    "collapsed": false
   },
   "outputs": [
    {
     "data": {
      "text/html": [
       "<div>\n",
       "<table border=\"1\" class=\"dataframe\">\n",
       "  <thead>\n",
       "    <tr style=\"text-align: right;\">\n",
       "      <th></th>\n",
       "      <th>时间</th>\n",
       "      <th>小区名</th>\n",
       "      <th>小区房屋出租数量</th>\n",
       "      <th>楼层</th>\n",
       "      <th>总楼层</th>\n",
       "      <th>房屋面积</th>\n",
       "      <th>房屋朝向</th>\n",
       "      <th>居住状态</th>\n",
       "      <th>卧室数量</th>\n",
       "      <th>厅的数量</th>\n",
       "      <th>卫的数量</th>\n",
       "      <th>出租方式</th>\n",
       "      <th>区</th>\n",
       "      <th>位置</th>\n",
       "      <th>地铁线路</th>\n",
       "      <th>地铁站点</th>\n",
       "      <th>距离</th>\n",
       "      <th>装修情况</th>\n",
       "      <th>月租金</th>\n",
       "    </tr>\n",
       "  </thead>\n",
       "  <tbody>\n",
       "    <tr>\n",
       "      <th>0</th>\n",
       "      <td>1</td>\n",
       "      <td>3072</td>\n",
       "      <td>0.128906</td>\n",
       "      <td>2</td>\n",
       "      <td>0.236364</td>\n",
       "      <td>0.008628</td>\n",
       "      <td>东南</td>\n",
       "      <td>NaN</td>\n",
       "      <td>1</td>\n",
       "      <td>1</td>\n",
       "      <td>1</td>\n",
       "      <td>NaN</td>\n",
       "      <td>11.0</td>\n",
       "      <td>118.0</td>\n",
       "      <td>2.0</td>\n",
       "      <td>40.0</td>\n",
       "      <td>0.764167</td>\n",
       "      <td>NaN</td>\n",
       "      <td>5.602716</td>\n",
       "    </tr>\n",
       "    <tr>\n",
       "      <th>1</th>\n",
       "      <td>1</td>\n",
       "      <td>3152</td>\n",
       "      <td>0.132812</td>\n",
       "      <td>1</td>\n",
       "      <td>0.381818</td>\n",
       "      <td>0.017046</td>\n",
       "      <td>东</td>\n",
       "      <td>NaN</td>\n",
       "      <td>1</td>\n",
       "      <td>0</td>\n",
       "      <td>0</td>\n",
       "      <td>NaN</td>\n",
       "      <td>10.0</td>\n",
       "      <td>100.0</td>\n",
       "      <td>4.0</td>\n",
       "      <td>58.0</td>\n",
       "      <td>0.709167</td>\n",
       "      <td>NaN</td>\n",
       "      <td>16.977929</td>\n",
       "    </tr>\n",
       "    <tr>\n",
       "      <th>2</th>\n",
       "      <td>1</td>\n",
       "      <td>5575</td>\n",
       "      <td>0.042969</td>\n",
       "      <td>0</td>\n",
       "      <td>0.290909</td>\n",
       "      <td>0.010593</td>\n",
       "      <td>东南</td>\n",
       "      <td>NaN</td>\n",
       "      <td>2</td>\n",
       "      <td>1</td>\n",
       "      <td>2</td>\n",
       "      <td>NaN</td>\n",
       "      <td>12.0</td>\n",
       "      <td>130.0</td>\n",
       "      <td>5.0</td>\n",
       "      <td>37.0</td>\n",
       "      <td>0.572500</td>\n",
       "      <td>NaN</td>\n",
       "      <td>8.998302</td>\n",
       "    </tr>\n",
       "    <tr>\n",
       "      <th>3</th>\n",
       "      <td>1</td>\n",
       "      <td>3103</td>\n",
       "      <td>0.085938</td>\n",
       "      <td>2</td>\n",
       "      <td>0.581818</td>\n",
       "      <td>0.019199</td>\n",
       "      <td>南</td>\n",
       "      <td>NaN</td>\n",
       "      <td>3</td>\n",
       "      <td>2</td>\n",
       "      <td>2</td>\n",
       "      <td>NaN</td>\n",
       "      <td>7.0</td>\n",
       "      <td>90.0</td>\n",
       "      <td>2.0</td>\n",
       "      <td>63.0</td>\n",
       "      <td>0.658333</td>\n",
       "      <td>NaN</td>\n",
       "      <td>5.602716</td>\n",
       "    </tr>\n",
       "    <tr>\n",
       "      <th>4</th>\n",
       "      <td>1</td>\n",
       "      <td>5182</td>\n",
       "      <td>0.214844</td>\n",
       "      <td>0</td>\n",
       "      <td>0.545455</td>\n",
       "      <td>0.010427</td>\n",
       "      <td>东北</td>\n",
       "      <td>NaN</td>\n",
       "      <td>2</td>\n",
       "      <td>1</td>\n",
       "      <td>1</td>\n",
       "      <td>NaN</td>\n",
       "      <td>3.0</td>\n",
       "      <td>31.0</td>\n",
       "      <td>NaN</td>\n",
       "      <td>NaN</td>\n",
       "      <td>NaN</td>\n",
       "      <td>NaN</td>\n",
       "      <td>7.300509</td>\n",
       "    </tr>\n",
       "  </tbody>\n",
       "</table>\n",
       "</div>"
      ],
      "text/plain": [
       "   时间   小区名  小区房屋出租数量  楼层       总楼层      房屋面积 房屋朝向  居住状态  卧室数量  厅的数量  卫的数量  \\\n",
       "0   1  3072  0.128906   2  0.236364  0.008628   东南   NaN     1     1     1   \n",
       "1   1  3152  0.132812   1  0.381818  0.017046    东   NaN     1     0     0   \n",
       "2   1  5575  0.042969   0  0.290909  0.010593   东南   NaN     2     1     2   \n",
       "3   1  3103  0.085938   2  0.581818  0.019199    南   NaN     3     2     2   \n",
       "4   1  5182  0.214844   0  0.545455  0.010427   东北   NaN     2     1     1   \n",
       "\n",
       "   出租方式     区     位置  地铁线路  地铁站点        距离  装修情况        月租金  \n",
       "0   NaN  11.0  118.0   2.0  40.0  0.764167   NaN   5.602716  \n",
       "1   NaN  10.0  100.0   4.0  58.0  0.709167   NaN  16.977929  \n",
       "2   NaN  12.0  130.0   5.0  37.0  0.572500   NaN   8.998302  \n",
       "3   NaN   7.0   90.0   2.0  63.0  0.658333   NaN   5.602716  \n",
       "4   NaN   3.0   31.0   NaN   NaN       NaN   NaN   7.300509  "
      ]
     },
     "execution_count": 3,
     "metadata": {},
     "output_type": "execute_result"
    }
   ],
   "source": [
    "train.head()"
   ]
  },
  {
   "cell_type": "code",
   "execution_count": 4,
   "metadata": {
    "collapsed": false
   },
   "outputs": [
    {
     "data": {
      "text/html": [
       "<div>\n",
       "<table border=\"1\" class=\"dataframe\">\n",
       "  <thead>\n",
       "    <tr style=\"text-align: right;\">\n",
       "      <th></th>\n",
       "      <th>id</th>\n",
       "      <th>时间</th>\n",
       "      <th>小区名</th>\n",
       "      <th>小区房屋出租数量</th>\n",
       "      <th>楼层</th>\n",
       "      <th>总楼层</th>\n",
       "      <th>房屋面积</th>\n",
       "      <th>房屋朝向</th>\n",
       "      <th>居住状态</th>\n",
       "      <th>卧室数量</th>\n",
       "      <th>厅的数量</th>\n",
       "      <th>卫的数量</th>\n",
       "      <th>出租方式</th>\n",
       "      <th>区</th>\n",
       "      <th>位置</th>\n",
       "      <th>地铁线路</th>\n",
       "      <th>地铁站点</th>\n",
       "      <th>距离</th>\n",
       "      <th>装修情况</th>\n",
       "    </tr>\n",
       "  </thead>\n",
       "  <tbody>\n",
       "    <tr>\n",
       "      <th>0</th>\n",
       "      <td>1</td>\n",
       "      <td>4</td>\n",
       "      <td>6011</td>\n",
       "      <td>0.382812</td>\n",
       "      <td>1</td>\n",
       "      <td>0.600000</td>\n",
       "      <td>0.007117</td>\n",
       "      <td>东</td>\n",
       "      <td>3.0</td>\n",
       "      <td>2</td>\n",
       "      <td>1</td>\n",
       "      <td>1</td>\n",
       "      <td>1.0</td>\n",
       "      <td>10.0</td>\n",
       "      <td>5.0</td>\n",
       "      <td>NaN</td>\n",
       "      <td>NaN</td>\n",
       "      <td>NaN</td>\n",
       "      <td>6.0</td>\n",
       "    </tr>\n",
       "    <tr>\n",
       "      <th>1</th>\n",
       "      <td>2</td>\n",
       "      <td>4</td>\n",
       "      <td>1697</td>\n",
       "      <td>0.152344</td>\n",
       "      <td>1</td>\n",
       "      <td>0.472727</td>\n",
       "      <td>0.007448</td>\n",
       "      <td>东</td>\n",
       "      <td>NaN</td>\n",
       "      <td>2</td>\n",
       "      <td>1</td>\n",
       "      <td>1</td>\n",
       "      <td>NaN</td>\n",
       "      <td>3.0</td>\n",
       "      <td>0.0</td>\n",
       "      <td>NaN</td>\n",
       "      <td>NaN</td>\n",
       "      <td>NaN</td>\n",
       "      <td>NaN</td>\n",
       "    </tr>\n",
       "    <tr>\n",
       "      <th>2</th>\n",
       "      <td>3</td>\n",
       "      <td>4</td>\n",
       "      <td>754</td>\n",
       "      <td>0.207031</td>\n",
       "      <td>2</td>\n",
       "      <td>0.709091</td>\n",
       "      <td>0.014068</td>\n",
       "      <td>东南</td>\n",
       "      <td>NaN</td>\n",
       "      <td>3</td>\n",
       "      <td>2</td>\n",
       "      <td>2</td>\n",
       "      <td>NaN</td>\n",
       "      <td>10.0</td>\n",
       "      <td>9.0</td>\n",
       "      <td>4.0</td>\n",
       "      <td>74.0</td>\n",
       "      <td>0.400833</td>\n",
       "      <td>NaN</td>\n",
       "    </tr>\n",
       "    <tr>\n",
       "      <th>3</th>\n",
       "      <td>4</td>\n",
       "      <td>4</td>\n",
       "      <td>1285</td>\n",
       "      <td>0.011719</td>\n",
       "      <td>0</td>\n",
       "      <td>0.090909</td>\n",
       "      <td>0.008937</td>\n",
       "      <td>南</td>\n",
       "      <td>NaN</td>\n",
       "      <td>2</td>\n",
       "      <td>1</td>\n",
       "      <td>1</td>\n",
       "      <td>NaN</td>\n",
       "      <td>6.0</td>\n",
       "      <td>96.0</td>\n",
       "      <td>5.0</td>\n",
       "      <td>17.0</td>\n",
       "      <td>0.384167</td>\n",
       "      <td>NaN</td>\n",
       "    </tr>\n",
       "    <tr>\n",
       "      <th>4</th>\n",
       "      <td>5</td>\n",
       "      <td>4</td>\n",
       "      <td>4984</td>\n",
       "      <td>0.035156</td>\n",
       "      <td>1</td>\n",
       "      <td>0.218182</td>\n",
       "      <td>0.008606</td>\n",
       "      <td>东南</td>\n",
       "      <td>NaN</td>\n",
       "      <td>2</td>\n",
       "      <td>1</td>\n",
       "      <td>1</td>\n",
       "      <td>NaN</td>\n",
       "      <td>6.0</td>\n",
       "      <td>61.0</td>\n",
       "      <td>3.0</td>\n",
       "      <td>114.0</td>\n",
       "      <td>0.598333</td>\n",
       "      <td>NaN</td>\n",
       "    </tr>\n",
       "  </tbody>\n",
       "</table>\n",
       "</div>"
      ],
      "text/plain": [
       "   id  时间   小区名  小区房屋出租数量  楼层       总楼层      房屋面积 房屋朝向  居住状态  卧室数量  厅的数量  \\\n",
       "0   1   4  6011  0.382812   1  0.600000  0.007117    东   3.0     2     1   \n",
       "1   2   4  1697  0.152344   1  0.472727  0.007448    东   NaN     2     1   \n",
       "2   3   4   754  0.207031   2  0.709091  0.014068   东南   NaN     3     2   \n",
       "3   4   4  1285  0.011719   0  0.090909  0.008937    南   NaN     2     1   \n",
       "4   5   4  4984  0.035156   1  0.218182  0.008606   东南   NaN     2     1   \n",
       "\n",
       "   卫的数量  出租方式     区    位置  地铁线路   地铁站点        距离  装修情况  \n",
       "0     1   1.0  10.0   5.0   NaN    NaN       NaN   6.0  \n",
       "1     1   NaN   3.0   0.0   NaN    NaN       NaN   NaN  \n",
       "2     2   NaN  10.0   9.0   4.0   74.0  0.400833   NaN  \n",
       "3     1   NaN   6.0  96.0   5.0   17.0  0.384167   NaN  \n",
       "4     1   NaN   6.0  61.0   3.0  114.0  0.598333   NaN  "
      ]
     },
     "execution_count": 4,
     "metadata": {},
     "output_type": "execute_result"
    }
   ],
   "source": [
    "test.head()"
   ]
  },
  {
   "cell_type": "code",
   "execution_count": 5,
   "metadata": {
    "collapsed": false
   },
   "outputs": [],
   "source": [
    "# 合并训练集和测试集,去掉房价一列\n",
    "all_data = pd.concat([train, test], axis = 0, ignore_index= True)\n",
    "all_data.drop(labels = [\"月租金\"],axis = 1, inplace = True)\n",
    "all_data.drop(labels = [\"id\"],axis = 1, inplace = True)\n"
   ]
  },
  {
   "cell_type": "markdown",
   "metadata": {},
   "source": [
    "## 查看房价分布"
   ]
  },
  {
   "cell_type": "markdown",
   "metadata": {
    "collapsed": false
   },
   "source": [
    "# 查看训练集的房价分布，左图是原始房价分布，右图是将房价对数化之后的分布\n",
    "fig = plt.figure(figsize=(12,5))\n",
    "ax1 = fig.add_subplot(121)\n",
    "ax2 = fig.add_subplot(122)\n",
    "g1 = sns.distplot(train['月租金'],hist = True,label='skewness:{:.2f}'.format(train['月租金'].skew()),ax = ax1)\n",
    "g1.legend()\n",
    "g1.set(xlabel = 'Price')\n",
    "g2 = sns.distplot(np.log1p(train['月租金']),hist = True,label='skewness:{:.2f}'.format(np.log1p(train['月租金']).skew()),ax=ax2)\n",
    "g2.legend()\n",
    "g2.set(xlabel = 'log(Price+1)')\n",
    "plt.show()\n"
   ]
  },
  {
   "cell_type": "markdown",
   "metadata": {
    "collapsed": false
   },
   "source": [
    "# 由于房价是有偏度的,将房价对数化\n",
    "train['月租金'] = np.log1p(train['月租金']) "
   ]
  },
  {
   "cell_type": "markdown",
   "metadata": {
    "collapsed": true
   },
   "source": [
    "# 将有偏的数值特征对数化\n",
    "num_features_list = list(all_data.dtypes[all_data.dtypes != \"object\"].index)\n",
    "\n",
    "for i in num_features_list:\n",
    "    if all_data[i].dropna().skew() > 0.75:\n",
    "        all_data[i] = np.log1p(all_data[i])\n",
    "\n",
    "# 将类别数值转化为虚拟变量\n",
    "all_data = pd.get_dummies(all_data)  "
   ]
  },
  {
   "cell_type": "code",
   "execution_count": 6,
   "metadata": {
    "collapsed": false
   },
   "outputs": [
    {
     "data": {
      "text/plain": [
       "位置              41\n",
       "出租方式        223617\n",
       "区               41\n",
       "卧室数量             0\n",
       "卫的数量             0\n",
       "厅的数量             0\n",
       "地铁站点        134546\n",
       "地铁线路        134546\n",
       "小区名              0\n",
       "小区房屋出租数量      1023\n",
       "居住状态        228197\n",
       "总楼层              0\n",
       "房屋朝向             0\n",
       "房屋面积             0\n",
       "时间               0\n",
       "楼层               0\n",
       "装修情况        230119\n",
       "距离          134546\n",
       "dtype: int64"
      ]
     },
     "execution_count": 6,
     "metadata": {},
     "output_type": "execute_result"
    }
   ],
   "source": [
    "# 查看缺失值\n",
    "all_data.isnull().sum()"
   ]
  },
  {
   "cell_type": "code",
   "execution_count": 6,
   "metadata": {
    "collapsed": true
   },
   "outputs": [],
   "source": [
    "from scipy.stats import mode"
   ]
  },
  {
   "cell_type": "code",
   "execution_count": null,
   "metadata": {
    "collapsed": false
   },
   "outputs": [],
   "source": [
    "# 将缺失值用该列的均值填充\n",
    "all_data['装修情况']=all_data['装修情况'].fillna(mode(all_data['装修情况']).mode[0])\n",
    "all_data['居住状态']=all_data['居住状态'].fillna(mode(all_data['居住状态']).mode[0])\n",
    "all_data['出租方式']=all_data['出租方式'].fillna(mode(all_data['出租方式']).mode[0])\n",
    "all_data['地铁线路']=all_data['地铁线路'].fillna(mode(all_data['地铁线路']).mode[0])\n",
    "all_data['地铁站点']=all_data['地铁站点'].fillna(mode(all_data['地铁站点']).mode[0])\n",
    "all_data['距离']=all_data['距离'].fillna(all_data['距离'].mean())\n",
    "all_data['小区房屋出租数量']=all_data['小区房屋出租数量'].fillna(all_data['小区房屋出租数量'].mean())\n",
    "all_data['区']= all_data['区'].fillna(mode(all_data['区']).mode[0])\n",
    "all_data['位置']= all_data['位置'].fillna(mode(all_data['位置']).mode[0])"
   ]
  },
  {
   "cell_type": "code",
   "execution_count": 9,
   "metadata": {
    "collapsed": true
   },
   "outputs": [],
   "source": [
    "ordinal_cols = ['区','地铁线路','卧室数量','厅的数量','卫的数量','房屋朝向']\n",
    "\n",
    "for col in ordinal_cols:\n",
    "    dummies = pd.get_dummies(all_data[col], drop_first=False)\n",
    "    dummies = dummies.add_prefix(\"{}#\".format(col))\n",
    "    all_data.drop(col, axis=1, inplace=True)\n",
    "    all_data = all_data.join(dummies)"
   ]
  },
  {
   "cell_type": "code",
   "execution_count": 10,
   "metadata": {
    "collapsed": true
   },
   "outputs": [],
   "source": [
    "all_data['房屋面积的平方'] = all_data['房屋面积'].apply(lambda x: x**2) \n",
    "all_data['房屋面积的立方'] = all_data['房屋面积'].apply(lambda x: x**3) "
   ]
  },
  {
   "cell_type": "code",
   "execution_count": 11,
   "metadata": {
    "collapsed": false
   },
   "outputs": [
    {
     "name": "stdout",
     "output_type": "stream",
     "text": [
      "位置                0\n",
      "出租方式              0\n",
      "地铁站点              0\n",
      "小区名               0\n",
      "小区房屋出租数量          0\n",
      "居住状态              0\n",
      "总楼层               0\n",
      "房屋面积              0\n",
      "时间                0\n",
      "楼层                0\n",
      "装修情况              0\n",
      "距离                0\n",
      "区#0.0             0\n",
      "区#1.0             0\n",
      "区#2.0             0\n",
      "区#3.0             0\n",
      "区#4.0             0\n",
      "区#6.0             0\n",
      "区#7.0             0\n",
      "区#8.0             0\n",
      "区#9.0             0\n",
      "区#10.0            0\n",
      "区#11.0            0\n",
      "区#12.0            0\n",
      "区#13.0            0\n",
      "区#14.0            0\n",
      "地铁线路#1.0          0\n",
      "地铁线路#2.0          0\n",
      "地铁线路#3.0          0\n",
      "地铁线路#4.0          0\n",
      "                 ..\n",
      "房屋朝向#北 西          0\n",
      "房屋朝向#南            0\n",
      "房屋朝向#南 东          0\n",
      "房屋朝向#南 东北         0\n",
      "房屋朝向#南 东南         0\n",
      "房屋朝向#南 北          0\n",
      "房屋朝向#南 北 东北       0\n",
      "房屋朝向#南 西          0\n",
      "房屋朝向#南 西 北        0\n",
      "房屋朝向#南 西北         0\n",
      "房屋朝向#南 西南         0\n",
      "房屋朝向#南 西南 北       0\n",
      "房屋朝向#南 西南 西       0\n",
      "房屋朝向#南 西南 西 西北    0\n",
      "房屋朝向#西            0\n",
      "房屋朝向#西 北          0\n",
      "房屋朝向#西 西北         0\n",
      "房屋朝向#西 西北 北       0\n",
      "房屋朝向#西北           0\n",
      "房屋朝向#西北 东北        0\n",
      "房屋朝向#西北 北         0\n",
      "房屋朝向#西北 北 东北      0\n",
      "房屋朝向#西南           0\n",
      "房屋朝向#西南 东北        0\n",
      "房屋朝向#西南 北         0\n",
      "房屋朝向#西南 西         0\n",
      "房屋朝向#西南 西 东北      0\n",
      "房屋朝向#西南 西北        0\n",
      "房屋面积的平方           0\n",
      "房屋面积的立方           0\n",
      "dtype: int64\n"
     ]
    }
   ],
   "source": [
    "print(all_data.isnull().sum()) "
   ]
  },
  {
   "cell_type": "code",
   "execution_count": 12,
   "metadata": {
    "collapsed": false
   },
   "outputs": [
    {
     "name": "stdout",
     "output_type": "stream",
     "text": [
      "(252818, 128)\n",
      "196539\n",
      "(196539, 128)\n",
      "(56279, 128)\n",
      "(196539,)\n"
     ]
    }
   ],
   "source": [
    "# 将测试集和训练集分开\n",
    "X_train = all_data[:train_len]\n",
    "X_test = all_data[train_len:]\n",
    "Y_train = train['月租金']\n",
    "print(all_data.shape)\n",
    "print(train_len)\n",
    "print(X_train.shape)\n",
    "print(X_test.shape)\n",
    "print(Y_train.shape)"
   ]
  },
  {
   "cell_type": "code",
   "execution_count": 1,
   "metadata": {
    "collapsed": false
   },
   "outputs": [
    {
     "name": "stderr",
     "output_type": "stream",
     "text": [
      "E:\\Anaconda\\lib\\site-packages\\sklearn\\utils\\fixes.py:313: FutureWarning: numpy not_equal will not check object identity in the future. The comparison did not return the same result as suggested by the identity (`is`)) and will change.\n",
      "  _nan_object_mask = _nan_object_array != _nan_object_array\n"
     ]
    },
    {
     "ename": "ImportError",
     "evalue": "cannot import name '_joblib_parallel_args'",
     "output_type": "error",
     "traceback": [
      "\u001b[0;31m---------------------------------------------------------------------------\u001b[0m",
      "\u001b[0;31mImportError\u001b[0m                               Traceback (most recent call last)",
      "\u001b[0;32m<ipython-input-1-3e872339458f>\u001b[0m in \u001b[0;36m<module>\u001b[0;34m()\u001b[0m\n\u001b[0;32m----> 1\u001b[0;31m \u001b[1;32mfrom\u001b[0m \u001b[0msklearn\u001b[0m\u001b[1;33m.\u001b[0m\u001b[0mensemble\u001b[0m \u001b[1;32mimport\u001b[0m \u001b[0mRandomForestRegressor\u001b[0m\u001b[1;33m\u001b[0m\u001b[0m\n\u001b[0m\u001b[1;32m      2\u001b[0m \u001b[1;33m\u001b[0m\u001b[0m\n\u001b[1;32m      3\u001b[0m \u001b[0mnp\u001b[0m\u001b[1;33m.\u001b[0m\u001b[0mrandom\u001b[0m\u001b[1;33m.\u001b[0m\u001b[0mseed\u001b[0m\u001b[1;33m(\u001b[0m\u001b[1;36m21\u001b[0m\u001b[1;33m)\u001b[0m\u001b[1;33m\u001b[0m\u001b[0m\n\u001b[1;32m      4\u001b[0m \u001b[1;33m\u001b[0m\u001b[0m\n\u001b[1;32m      5\u001b[0m \u001b[0mrf_reg\u001b[0m \u001b[1;33m=\u001b[0m \u001b[0mRandomForestRegressor\u001b[0m\u001b[1;33m(\u001b[0m\u001b[0mn_estimators\u001b[0m\u001b[1;33m=\u001b[0m\u001b[1;36m50\u001b[0m\u001b[1;33m)\u001b[0m\u001b[1;33m\u001b[0m\u001b[0m\n",
      "\u001b[0;32mE:\\Anaconda\\lib\\site-packages\\sklearn\\ensemble\\__init__.py\u001b[0m in \u001b[0;36m<module>\u001b[0;34m()\u001b[0m\n\u001b[1;32m      5\u001b[0m \u001b[1;33m\u001b[0m\u001b[0m\n\u001b[1;32m      6\u001b[0m \u001b[1;32mfrom\u001b[0m \u001b[1;33m.\u001b[0m\u001b[0mbase\u001b[0m \u001b[1;32mimport\u001b[0m \u001b[0mBaseEnsemble\u001b[0m\u001b[1;33m\u001b[0m\u001b[0m\n\u001b[0;32m----> 7\u001b[0;31m \u001b[1;32mfrom\u001b[0m \u001b[1;33m.\u001b[0m\u001b[0mforest\u001b[0m \u001b[1;32mimport\u001b[0m \u001b[0mRandomForestClassifier\u001b[0m\u001b[1;33m\u001b[0m\u001b[0m\n\u001b[0m\u001b[1;32m      8\u001b[0m \u001b[1;32mfrom\u001b[0m \u001b[1;33m.\u001b[0m\u001b[0mforest\u001b[0m \u001b[1;32mimport\u001b[0m \u001b[0mRandomForestRegressor\u001b[0m\u001b[1;33m\u001b[0m\u001b[0m\n\u001b[1;32m      9\u001b[0m \u001b[1;32mfrom\u001b[0m \u001b[1;33m.\u001b[0m\u001b[0mforest\u001b[0m \u001b[1;32mimport\u001b[0m \u001b[0mRandomTreesEmbedding\u001b[0m\u001b[1;33m\u001b[0m\u001b[0m\n",
      "\u001b[0;32mE:\\Anaconda\\lib\\site-packages\\sklearn\\ensemble\\forest.py\u001b[0m in \u001b[0;36m<module>\u001b[0;34m()\u001b[0m\n\u001b[1;32m     61\u001b[0m \u001b[1;32mfrom\u001b[0m \u001b[1;33m.\u001b[0m\u001b[1;33m.\u001b[0m\u001b[0mexceptions\u001b[0m \u001b[1;32mimport\u001b[0m \u001b[0mDataConversionWarning\u001b[0m\u001b[1;33m,\u001b[0m \u001b[0mNotFittedError\u001b[0m\u001b[1;33m\u001b[0m\u001b[0m\n\u001b[1;32m     62\u001b[0m \u001b[1;32mfrom\u001b[0m \u001b[1;33m.\u001b[0m\u001b[0mbase\u001b[0m \u001b[1;32mimport\u001b[0m \u001b[0mBaseEnsemble\u001b[0m\u001b[1;33m,\u001b[0m \u001b[0m_partition_estimators\u001b[0m\u001b[1;33m\u001b[0m\u001b[0m\n\u001b[0;32m---> 63\u001b[0;31m \u001b[1;32mfrom\u001b[0m \u001b[1;33m.\u001b[0m\u001b[1;33m.\u001b[0m\u001b[0mutils\u001b[0m\u001b[1;33m.\u001b[0m\u001b[0mfixes\u001b[0m \u001b[1;32mimport\u001b[0m \u001b[0mparallel_helper\u001b[0m\u001b[1;33m,\u001b[0m \u001b[0m_joblib_parallel_args\u001b[0m\u001b[1;33m\u001b[0m\u001b[0m\n\u001b[0m\u001b[1;32m     64\u001b[0m \u001b[1;32mfrom\u001b[0m \u001b[1;33m.\u001b[0m\u001b[1;33m.\u001b[0m\u001b[0mutils\u001b[0m\u001b[1;33m.\u001b[0m\u001b[0mmulticlass\u001b[0m \u001b[1;32mimport\u001b[0m \u001b[0mcheck_classification_targets\u001b[0m\u001b[1;33m\u001b[0m\u001b[0m\n\u001b[1;32m     65\u001b[0m \u001b[1;32mfrom\u001b[0m \u001b[1;33m.\u001b[0m\u001b[1;33m.\u001b[0m\u001b[0mutils\u001b[0m\u001b[1;33m.\u001b[0m\u001b[0mvalidation\u001b[0m \u001b[1;32mimport\u001b[0m \u001b[0mcheck_is_fitted\u001b[0m\u001b[1;33m\u001b[0m\u001b[0m\n",
      "\u001b[0;31mImportError\u001b[0m: cannot import name '_joblib_parallel_args'"
     ]
    }
   ],
   "source": [
    "from sklearn.ensemble import RandomForestRegressor\n",
    "\n",
    "np.random.seed(21)\n",
    "\n",
    "rf_reg = RandomForestRegressor(n_estimators=50)\n",
    "rf_reg.fit(X_train, Y_train)\n",
    "\n",
    "combine_lists = lambda item: [item[0], item[1]]\n",
    "feature_importance = list(map(combine_lists, zip(X_train.columns, rf_reg.feature_importances_)))\n",
    "feature_importance = pd.DataFrame(\n",
    "    feature_importance, columns=['feature', 'importance']\n",
    ").sort_values(by='importance', ascending=False)"
   ]
  },
  {
   "cell_type": "code",
   "execution_count": 14,
   "metadata": {
    "collapsed": false
   },
   "outputs": [
    {
     "data": {
      "text/html": [
       "<div>\n",
       "<table border=\"1\" class=\"dataframe\">\n",
       "  <thead>\n",
       "    <tr style=\"text-align: right;\">\n",
       "      <th></th>\n",
       "      <th>feature</th>\n",
       "      <th>importance</th>\n",
       "    </tr>\n",
       "  </thead>\n",
       "  <tbody>\n",
       "    <tr>\n",
       "      <th>7</th>\n",
       "      <td>房屋面积</td>\n",
       "      <td>0.280284</td>\n",
       "    </tr>\n",
       "    <tr>\n",
       "      <th>126</th>\n",
       "      <td>房屋面积的平方</td>\n",
       "      <td>0.166738</td>\n",
       "    </tr>\n",
       "    <tr>\n",
       "      <th>6</th>\n",
       "      <td>总楼层</td>\n",
       "      <td>0.092880</td>\n",
       "    </tr>\n",
       "    <tr>\n",
       "      <th>3</th>\n",
       "      <td>小区名</td>\n",
       "      <td>0.053831</td>\n",
       "    </tr>\n",
       "    <tr>\n",
       "      <th>0</th>\n",
       "      <td>位置</td>\n",
       "      <td>0.052351</td>\n",
       "    </tr>\n",
       "    <tr>\n",
       "      <th>23</th>\n",
       "      <td>区#12.0</td>\n",
       "      <td>0.043882</td>\n",
       "    </tr>\n",
       "    <tr>\n",
       "      <th>4</th>\n",
       "      <td>小区房屋出租数量</td>\n",
       "      <td>0.042568</td>\n",
       "    </tr>\n",
       "    <tr>\n",
       "      <th>11</th>\n",
       "      <td>距离</td>\n",
       "      <td>0.035452</td>\n",
       "    </tr>\n",
       "    <tr>\n",
       "      <th>21</th>\n",
       "      <td>区#10.0</td>\n",
       "      <td>0.029187</td>\n",
       "    </tr>\n",
       "    <tr>\n",
       "      <th>2</th>\n",
       "      <td>地铁站点</td>\n",
       "      <td>0.023706</td>\n",
       "    </tr>\n",
       "  </tbody>\n",
       "</table>\n",
       "</div>"
      ],
      "text/plain": [
       "      feature  importance\n",
       "7        房屋面积    0.280284\n",
       "126   房屋面积的平方    0.166738\n",
       "6         总楼层    0.092880\n",
       "3         小区名    0.053831\n",
       "0          位置    0.052351\n",
       "23     区#12.0    0.043882\n",
       "4    小区房屋出租数量    0.042568\n",
       "11         距离    0.035452\n",
       "21     区#10.0    0.029187\n",
       "2        地铁站点    0.023706"
      ]
     },
     "execution_count": 14,
     "metadata": {},
     "output_type": "execute_result"
    }
   ],
   "source": [
    "feature_importance.head(10)"
   ]
  },
  {
   "cell_type": "code",
   "execution_count": 16,
   "metadata": {
    "collapsed": true
   },
   "outputs": [],
   "source": [
    "filter_feature = feature_importance[feature_importance['importance'] > 0.001]['feature'].tolist()"
   ]
  },
  {
   "cell_type": "markdown",
   "metadata": {
    "collapsed": false
   },
   "source": [
    "from sklearn.linear_model import LinearRegression\n",
    "from sklearn.metrics import mean_squared_error\n",
    "\n",
    "def simple_linear_model(X_train, Y_train, X_test, input_feature):\n",
    "    reg = LinearRegression()\n",
    "    reg.fit(X_train.as_matrix(columns=input_feature), Y_train)\n",
    "    #test_predictions=reg.predict(val_data.as_matrix(columns=[input_feature]))\n",
    "    #print(test_predictions)\n",
    "    Y_test = reg.predict(X_test.as_matrix(columns=[input_feature]))\n",
    "    print(Y_test)\n",
    "    print(Y_test.shape)\n",
    "    result = pd.DataFrame({\"id\":test.id, \"price\":Y_test})\n",
    "    result.to_csv('result.csv', index = False)\n",
    "    return 0\n",
    "\n",
    "simple_linear_model(X_train, Y_train, X_test, ['房屋面积','卫的数量','区','位置','装修情况','出租方式','卧室数量','厅的数量','地铁站点',\n",
    "                                               '地铁线路','小区名','小区房屋出租数量','居住状态','总楼层','楼层','距离'])"
   ]
  },
  {
   "cell_type": "code",
   "execution_count": 18,
   "metadata": {
    "collapsed": false
   },
   "outputs": [
    {
     "name": "stdout",
     "output_type": "stream",
     "text": [
      "[  4.23146576   5.57894737  12.25806452 ...,   7.68534239  11.68421053\n",
      "   4.79864177]\n",
      "(56279,)\n"
     ]
    },
    {
     "data": {
      "text/plain": [
       "0"
      ]
     },
     "execution_count": 18,
     "metadata": {},
     "output_type": "execute_result"
    }
   ],
   "source": [
    "from sklearn.ensemble import RandomForestRegressor\n",
    "from sklearn.ensemble import GradientBoostingRegressor\n",
    "from sklearn.tree import DecisionTreeRegressor\n",
    "from sklearn.ensemble import AdaBoostRegressor\n",
    "np.random.seed(21)\n",
    "\n",
    "def other_regression_model(X_train, Y_train, X_test, input_feature):\n",
    "    reg=RandomForestRegressor(n_estimators=100)\n",
    "    reg2= AdaBoostRegressor(DecisionTreeRegressor(),n_estimators=300)\n",
    "    reg3=GradientBoostingRegressor(n_estimators=100, learning_rate=0.1)\n",
    "    reg.fit(X_train.as_matrix(columns=input_feature), Y_train)\n",
    "    ##reg2.fit(X_train.as_matrix(columns=input_feature), Y_train)\n",
    "    ##reg3.fit(X_train.as_matrix(columns=input_feature), Y_train)\n",
    "    #test_predictions=reg.predict(test.as_matrix(columns=[input_feature]))\n",
    "    #print(test_predictions)\n",
    "   \n",
    "    Y_test = reg.predict(X_test.as_matrix(columns=input_feature))\n",
    "    ##Y_test1 = reg2.predict(X_test.as_matrix(columns=input_feature))\n",
    "    ##Y_test2 = reg3.predict(X_test.as_matrix(columns=input_feature))\n",
    "    print(Y_test)\n",
    "    ##print(Y_test1)\n",
    "    ##print(Y_test2)\n",
    "    print(Y_test.shape)\n",
    "    result = pd.DataFrame({\"id\":test.id, \"price\":Y_test})\n",
    "    result.to_csv('result.csv', index = False)\n",
    "    ##result1 = pd.DataFrame({\"id\":test.id, \"price\":Y_test1})\n",
    "    ##result.to_csv('result1.csv', index = False)\n",
    "    ##result2 = pd.DataFrame({\"id\":test.id, \"price\":Y_test2})\n",
    "    ##result.to_csv('result2.csv', index = False)\n",
    "    return 0\n",
    "   \n",
    "other_regression_model(X_train, Y_train, X_test, filter_feature)\n"
   ]
  },
  {
   "cell_type": "code",
   "execution_count": 9,
   "metadata": {
    "collapsed": false
   },
   "outputs": [],
   "source": [
    "from sklearn.linear_model import Ridge, LassoCV\n",
    "from sklearn.model_selection import cross_val_score\n",
    "\n",
    "# 定义交叉验证,用均方根误差来评价模型的拟合程度\n",
    "def rmse_cv(model):\n",
    "    rmse = np.sqrt(-cross_val_score(model, X_train, Y_train, scoring = 'neg_mean_squared_error', cv=5))\n",
    "    return rmse\n"
   ]
  },
  {
   "cell_type": "code",
   "execution_count": 10,
   "metadata": {
    "collapsed": false
   },
   "outputs": [
    {
     "ename": "SyntaxError",
     "evalue": "invalid syntax (<ipython-input-10-b98a8834cc69>, line 2)",
     "output_type": "error",
     "traceback": [
      "\u001b[0;36m  File \u001b[0;32m\"<ipython-input-10-b98a8834cc69>\"\u001b[0;36m, line \u001b[0;32m2\u001b[0m\n\u001b[0;31m    4model_ridge = Ridge()\u001b[0m\n\u001b[0m               ^\u001b[0m\n\u001b[0;31mSyntaxError\u001b[0m\u001b[0;31m:\u001b[0m invalid syntax\n"
     ]
    }
   ],
   "source": [
    "# Ridge模型\n",
    "model_ridge = Ridge()\n",
    "alphas = [0.05, 0.1, 0.3, 1, 3, 5, 10, 15, 30, 50, 75]\n",
    "cv_ridge = [rmse_cv(Ridge(alpha = a)).mean() for a in alphas]\n",
    "cv_ridge = pd.Series(cv_ridge, index = alphas)\n",
    "cv_ridge\n",
    "# 交叉验证可视化\n",
    "fig = plt.figure(figsize=(8,5))\n",
    "cv_ridge.plot(title = 'Cross Validation Score with Model Ridge')\n",
    "plt.xlabel(\"alpha\")\n",
    "plt.ylabel(\"rmse\")\n",
    "plt.show()\n"
   ]
  },
  {
   "cell_type": "code",
   "execution_count": null,
   "metadata": {
    "collapsed": false
   },
   "outputs": [],
   "source": [
    "# 当alpha为0时,均方根误差最小\n",
    "cv_ridge.min()"
   ]
  },
  {
   "cell_type": "code",
   "execution_count": 11,
   "metadata": {
    "collapsed": false
   },
   "outputs": [
    {
     "ename": "ValueError",
     "evalue": "could not convert string to float: '南'",
     "output_type": "error",
     "traceback": [
      "\u001b[0;31m---------------------------------------------------------------------------\u001b[0m",
      "\u001b[0;31mValueError\u001b[0m                                Traceback (most recent call last)",
      "\u001b[0;32m<ipython-input-11-7fc8e329431f>\u001b[0m in \u001b[0;36m<module>\u001b[0;34m()\u001b[0m\n\u001b[1;32m      1\u001b[0m \u001b[1;31m# lasso模型,均方根误差的均值更小,因此最终选择lasso模型\u001b[0m\u001b[1;33m\u001b[0m\u001b[1;33m\u001b[0m\u001b[0m\n\u001b[0;32m----> 2\u001b[0;31m \u001b[0mmodel_lasso\u001b[0m \u001b[1;33m=\u001b[0m \u001b[0mLassoCV\u001b[0m\u001b[1;33m(\u001b[0m\u001b[0malphas\u001b[0m \u001b[1;33m=\u001b[0m \u001b[1;33m[\u001b[0m\u001b[1;36m1\u001b[0m\u001b[1;33m,\u001b[0m \u001b[1;36m0.1\u001b[0m\u001b[1;33m,\u001b[0m \u001b[1;36m0.001\u001b[0m\u001b[1;33m,\u001b[0m \u001b[1;36m0.0005\u001b[0m\u001b[1;33m]\u001b[0m\u001b[1;33m)\u001b[0m\u001b[1;33m.\u001b[0m\u001b[0mfit\u001b[0m\u001b[1;33m(\u001b[0m\u001b[0mX_train\u001b[0m\u001b[1;33m,\u001b[0m \u001b[0mY_train\u001b[0m\u001b[1;33m)\u001b[0m\u001b[1;33m\u001b[0m\u001b[0m\n\u001b[0m\u001b[1;32m      3\u001b[0m \u001b[0mrmse_cv\u001b[0m\u001b[1;33m(\u001b[0m\u001b[0mmodel_lasso\u001b[0m\u001b[1;33m)\u001b[0m\u001b[1;33m.\u001b[0m\u001b[0mmean\u001b[0m\u001b[1;33m(\u001b[0m\u001b[1;33m)\u001b[0m\u001b[1;33m\u001b[0m\u001b[0m\n",
      "\u001b[0;32mC:\\Program Files\\Anaconda3\\lib\\site-packages\\sklearn\\linear_model\\coordinate_descent.py\u001b[0m in \u001b[0;36mfit\u001b[0;34m(self, X, y)\u001b[0m\n\u001b[1;32m   1132\u001b[0m         \u001b[1;32melse\u001b[0m\u001b[1;33m:\u001b[0m\u001b[1;33m\u001b[0m\u001b[0m\n\u001b[1;32m   1133\u001b[0m             X = check_array(X, 'csc', dtype=[np.float64, np.float32],\n\u001b[0;32m-> 1134\u001b[0;31m                             order='F', copy=copy_X)\n\u001b[0m\u001b[1;32m   1135\u001b[0m             \u001b[0mcopy_X\u001b[0m \u001b[1;33m=\u001b[0m \u001b[1;32mFalse\u001b[0m\u001b[1;33m\u001b[0m\u001b[0m\n\u001b[1;32m   1136\u001b[0m \u001b[1;33m\u001b[0m\u001b[0m\n",
      "\u001b[0;32mC:\\Program Files\\Anaconda3\\lib\\site-packages\\sklearn\\utils\\validation.py\u001b[0m in \u001b[0;36mcheck_array\u001b[0;34m(array, accept_sparse, dtype, order, copy, force_all_finite, ensure_2d, allow_nd, ensure_min_samples, ensure_min_features, warn_on_dtype, estimator)\u001b[0m\n\u001b[1;32m    400\u001b[0m                                       force_all_finite)\n\u001b[1;32m    401\u001b[0m     \u001b[1;32melse\u001b[0m\u001b[1;33m:\u001b[0m\u001b[1;33m\u001b[0m\u001b[0m\n\u001b[0;32m--> 402\u001b[0;31m         \u001b[0marray\u001b[0m \u001b[1;33m=\u001b[0m \u001b[0mnp\u001b[0m\u001b[1;33m.\u001b[0m\u001b[0marray\u001b[0m\u001b[1;33m(\u001b[0m\u001b[0marray\u001b[0m\u001b[1;33m,\u001b[0m \u001b[0mdtype\u001b[0m\u001b[1;33m=\u001b[0m\u001b[0mdtype\u001b[0m\u001b[1;33m,\u001b[0m \u001b[0morder\u001b[0m\u001b[1;33m=\u001b[0m\u001b[0morder\u001b[0m\u001b[1;33m,\u001b[0m \u001b[0mcopy\u001b[0m\u001b[1;33m=\u001b[0m\u001b[0mcopy\u001b[0m\u001b[1;33m)\u001b[0m\u001b[1;33m\u001b[0m\u001b[0m\n\u001b[0m\u001b[1;32m    403\u001b[0m \u001b[1;33m\u001b[0m\u001b[0m\n\u001b[1;32m    404\u001b[0m         \u001b[1;32mif\u001b[0m \u001b[0mensure_2d\u001b[0m\u001b[1;33m:\u001b[0m\u001b[1;33m\u001b[0m\u001b[0m\n",
      "\u001b[0;31mValueError\u001b[0m: could not convert string to float: '南'"
     ]
    }
   ],
   "source": [
    "# lasso模型,均方根误差的均值更小,因此最终选择lasso模型\n",
    "model_lasso = LassoCV(alphas = [1, 0.1, 0.001, 0.0005]).fit(X_train, Y_train)\n",
    "rmse_cv(model_lasso).mean()"
   ]
  },
  {
   "cell_type": "code",
   "execution_count": null,
   "metadata": {
    "collapsed": false
   },
   "outputs": [],
   "source": [
    "# 查看模型系数, lasso模型能选择特征,将不重要的特征系数设置为0\n",
    "coef = pd.Series(model_lasso.coef_, index = X_train.columns)\n",
    "print(\"Lasso picked {} variables and eliminated the other {} variables\".format(sum(coef != 0), sum(coef==0)))\n"
   ]
  },
  {
   "cell_type": "code",
   "execution_count": 12,
   "metadata": {
    "collapsed": false
   },
   "outputs": [
    {
     "ename": "NameError",
     "evalue": "name 'coef' is not defined",
     "output_type": "error",
     "traceback": [
      "\u001b[0;31m---------------------------------------------------------------------------\u001b[0m",
      "\u001b[0;31mNameError\u001b[0m                                 Traceback (most recent call last)",
      "\u001b[0;32m<ipython-input-12-70ff9f8d4a49>\u001b[0m in \u001b[0;36m<module>\u001b[0;34m()\u001b[0m\n\u001b[1;32m      1\u001b[0m \u001b[1;31m# 查看重要的特征, GrLivArea地上面积是最重要的正相关特征\u001b[0m\u001b[1;33m\u001b[0m\u001b[1;33m\u001b[0m\u001b[0m\n\u001b[0;32m----> 2\u001b[0;31m \u001b[0mimp_coef\u001b[0m \u001b[1;33m=\u001b[0m \u001b[0mpd\u001b[0m\u001b[1;33m.\u001b[0m\u001b[0mconcat\u001b[0m\u001b[1;33m(\u001b[0m\u001b[1;33m[\u001b[0m\u001b[0mcoef\u001b[0m\u001b[1;33m.\u001b[0m\u001b[0msort_values\u001b[0m\u001b[1;33m(\u001b[0m\u001b[1;33m)\u001b[0m\u001b[1;33m.\u001b[0m\u001b[0mhead\u001b[0m\u001b[1;33m(\u001b[0m\u001b[1;36m10\u001b[0m\u001b[1;33m)\u001b[0m\u001b[1;33m,\u001b[0m\u001b[0mcoef\u001b[0m\u001b[1;33m.\u001b[0m\u001b[0msort_values\u001b[0m\u001b[1;33m(\u001b[0m\u001b[1;33m)\u001b[0m\u001b[1;33m.\u001b[0m\u001b[0mtail\u001b[0m\u001b[1;33m(\u001b[0m\u001b[1;36m10\u001b[0m\u001b[1;33m)\u001b[0m\u001b[1;33m]\u001b[0m\u001b[1;33m)\u001b[0m\u001b[1;33m\u001b[0m\u001b[0m\n\u001b[0m\u001b[1;32m      3\u001b[0m \u001b[0mfig\u001b[0m \u001b[1;33m=\u001b[0m \u001b[0mplt\u001b[0m\u001b[1;33m.\u001b[0m\u001b[0mfigure\u001b[0m\u001b[1;33m(\u001b[0m\u001b[0mfigsize\u001b[0m\u001b[1;33m=\u001b[0m\u001b[1;33m(\u001b[0m\u001b[1;36m6\u001b[0m\u001b[1;33m,\u001b[0m\u001b[1;36m8\u001b[0m\u001b[1;33m)\u001b[0m\u001b[1;33m)\u001b[0m\u001b[1;33m\u001b[0m\u001b[0m\n\u001b[1;32m      4\u001b[0m \u001b[0mimp_coef\u001b[0m\u001b[1;33m.\u001b[0m\u001b[0mplot\u001b[0m\u001b[1;33m(\u001b[0m\u001b[0mkind\u001b[0m \u001b[1;33m=\u001b[0m \u001b[1;34m\"barh\"\u001b[0m\u001b[1;33m)\u001b[0m\u001b[1;33m\u001b[0m\u001b[0m\n\u001b[1;32m      5\u001b[0m \u001b[0mplt\u001b[0m\u001b[1;33m.\u001b[0m\u001b[0mtitle\u001b[0m\u001b[1;33m(\u001b[0m\u001b[1;34m\"Coefficients in the Lasso Model\"\u001b[0m\u001b[1;33m)\u001b[0m\u001b[1;33m\u001b[0m\u001b[0m\n",
      "\u001b[0;31mNameError\u001b[0m: name 'coef' is not defined"
     ]
    }
   ],
   "source": [
    "# 查看重要的特征, GrLivArea地上面积是最重要的正相关特征\n",
    "imp_coef = pd.concat([coef.sort_values().head(10),coef.sort_values().tail(10)])\n",
    "fig = plt.figure(figsize=(6,8))\n",
    "imp_coef.plot(kind = \"barh\")\n",
    "plt.title(\"Coefficients in the Lasso Model\")\n",
    "plt.show()\n"
   ]
  },
  {
   "cell_type": "code",
   "execution_count": 13,
   "metadata": {
    "collapsed": false
   },
   "outputs": [
    {
     "ename": "NameError",
     "evalue": "name 'model_lasso' is not defined",
     "output_type": "error",
     "traceback": [
      "\u001b[0;31m---------------------------------------------------------------------------\u001b[0m",
      "\u001b[0;31mNameError\u001b[0m                                 Traceback (most recent call last)",
      "\u001b[0;32m<ipython-input-13-c5190873a3d5>\u001b[0m in \u001b[0;36m<module>\u001b[0;34m()\u001b[0m\n\u001b[1;32m      1\u001b[0m \u001b[1;31m# 查看残差\u001b[0m\u001b[1;33m\u001b[0m\u001b[1;33m\u001b[0m\u001b[0m\n\u001b[0;32m----> 2\u001b[0;31m \u001b[0mest\u001b[0m \u001b[1;33m=\u001b[0m \u001b[0mpd\u001b[0m\u001b[1;33m.\u001b[0m\u001b[0mDataFrame\u001b[0m\u001b[1;33m(\u001b[0m\u001b[1;33m{\u001b[0m\u001b[1;34m\"est\"\u001b[0m\u001b[1;33m:\u001b[0m\u001b[0mmodel_lasso\u001b[0m\u001b[1;33m.\u001b[0m\u001b[0mpredict\u001b[0m\u001b[1;33m(\u001b[0m\u001b[0mX_train\u001b[0m\u001b[1;33m)\u001b[0m\u001b[1;33m,\u001b[0m \u001b[1;34m\"true\"\u001b[0m\u001b[1;33m:\u001b[0m\u001b[0mY_train\u001b[0m\u001b[1;33m}\u001b[0m\u001b[1;33m)\u001b[0m\u001b[1;33m\u001b[0m\u001b[0m\n\u001b[0m\u001b[1;32m      3\u001b[0m \u001b[0mplt\u001b[0m\u001b[1;33m.\u001b[0m\u001b[0mrcParams\u001b[0m\u001b[1;33m[\u001b[0m\u001b[1;34m\"figure.figsize\"\u001b[0m\u001b[1;33m]\u001b[0m \u001b[1;33m=\u001b[0m \u001b[1;33m[\u001b[0m\u001b[1;36m6\u001b[0m\u001b[1;33m,\u001b[0m\u001b[1;36m6\u001b[0m\u001b[1;33m]\u001b[0m\u001b[1;33m\u001b[0m\u001b[0m\n\u001b[1;32m      4\u001b[0m \u001b[0mest\u001b[0m\u001b[1;33m[\u001b[0m\u001b[1;34m\"resi\"\u001b[0m\u001b[1;33m]\u001b[0m \u001b[1;33m=\u001b[0m \u001b[0mest\u001b[0m\u001b[1;33m[\u001b[0m\u001b[1;34m\"true\"\u001b[0m\u001b[1;33m]\u001b[0m \u001b[1;33m-\u001b[0m \u001b[0mest\u001b[0m\u001b[1;33m[\u001b[0m\u001b[1;34m\"est\"\u001b[0m\u001b[1;33m]\u001b[0m\u001b[1;33m\u001b[0m\u001b[0m\n\u001b[1;32m      5\u001b[0m \u001b[0mest\u001b[0m\u001b[1;33m.\u001b[0m\u001b[0mplot\u001b[0m\u001b[1;33m(\u001b[0m\u001b[0mx\u001b[0m \u001b[1;33m=\u001b[0m \u001b[1;34m\"est\"\u001b[0m\u001b[1;33m,\u001b[0m \u001b[0my\u001b[0m \u001b[1;33m=\u001b[0m \u001b[1;34m\"resi\"\u001b[0m\u001b[1;33m,\u001b[0m\u001b[0mkind\u001b[0m \u001b[1;33m=\u001b[0m \u001b[1;34m\"scatter\"\u001b[0m\u001b[1;33m)\u001b[0m\u001b[1;33m\u001b[0m\u001b[0m\n",
      "\u001b[0;31mNameError\u001b[0m: name 'model_lasso' is not defined"
     ]
    }
   ],
   "source": [
    "# 查看残差\n",
    "est = pd.DataFrame({\"est\":model_lasso.predict(X_train), \"true\":Y_train})\n",
    "plt.rcParams[\"figure.figsize\"] = [6,6]\n",
    "est[\"resi\"] = est[\"true\"] - est[\"est\"]\n",
    "est.plot(x = \"est\", y = \"resi\",kind = \"scatter\")\n",
    "plt.show()\n"
   ]
  },
  {
   "cell_type": "code",
   "execution_count": 14,
   "metadata": {
    "collapsed": false
   },
   "outputs": [
    {
     "ename": "NameError",
     "evalue": "name 'model_lasso' is not defined",
     "output_type": "error",
     "traceback": [
      "\u001b[0;31m---------------------------------------------------------------------------\u001b[0m",
      "\u001b[0;31mNameError\u001b[0m                                 Traceback (most recent call last)",
      "\u001b[0;32m<ipython-input-14-05b37a98aa2b>\u001b[0m in \u001b[0;36m<module>\u001b[0;34m()\u001b[0m\n\u001b[1;32m      1\u001b[0m \u001b[1;31m# 查看两种模型的预测结果, 将结果指数化\u001b[0m\u001b[1;33m\u001b[0m\u001b[1;33m\u001b[0m\u001b[0m\n\u001b[0;32m----> 2\u001b[0;31m \u001b[0mlasso_preds\u001b[0m \u001b[1;33m=\u001b[0m \u001b[0mnp\u001b[0m\u001b[1;33m.\u001b[0m\u001b[0mexpm1\u001b[0m\u001b[1;33m(\u001b[0m\u001b[0mmodel_lasso\u001b[0m\u001b[1;33m.\u001b[0m\u001b[0mpredict\u001b[0m\u001b[1;33m(\u001b[0m\u001b[0mX_test\u001b[0m\u001b[1;33m)\u001b[0m\u001b[1;33m)\u001b[0m\u001b[1;33m\u001b[0m\u001b[0m\n\u001b[0m\u001b[1;32m      3\u001b[0m \u001b[1;33m\u001b[0m\u001b[0m\n\u001b[1;32m      4\u001b[0m \u001b[0mpredictions\u001b[0m \u001b[1;33m=\u001b[0m \u001b[0mpd\u001b[0m\u001b[1;33m.\u001b[0m\u001b[0mDataFrame\u001b[0m\u001b[1;33m(\u001b[0m\u001b[1;33m{\u001b[0m \u001b[1;34m\"lasso\"\u001b[0m\u001b[1;33m:\u001b[0m\u001b[0mlasso_preds\u001b[0m\u001b[1;33m}\u001b[0m\u001b[1;33m)\u001b[0m\u001b[1;33m\u001b[0m\u001b[0m\n",
      "\u001b[0;31mNameError\u001b[0m: name 'model_lasso' is not defined"
     ]
    }
   ],
   "source": [
    "# 查看两种模型的预测结果, 将结果指数化\n",
    "lasso_preds = np.expm1(model_lasso.predict(X_test))\n",
    "\n",
    "predictions = pd.DataFrame({ \"lasso\":lasso_preds})\n"
   ]
  },
  {
   "cell_type": "code",
   "execution_count": 15,
   "metadata": {
    "collapsed": false
   },
   "outputs": [
    {
     "ename": "NameError",
     "evalue": "name 'lasso_preds' is not defined",
     "output_type": "error",
     "traceback": [
      "\u001b[0;31m---------------------------------------------------------------------------\u001b[0m",
      "\u001b[0;31mNameError\u001b[0m                                 Traceback (most recent call last)",
      "\u001b[0;32m<ipython-input-15-ceb56b07902c>\u001b[0m in \u001b[0;36m<module>\u001b[0;34m()\u001b[0m\n\u001b[1;32m      1\u001b[0m \u001b[1;33m\u001b[0m\u001b[0m\n\u001b[0;32m----> 2\u001b[0;31m \u001b[0mpreds\u001b[0m \u001b[1;33m=\u001b[0m \u001b[0mlasso_preds\u001b[0m\u001b[1;33m\u001b[0m\u001b[0m\n\u001b[0m\u001b[1;32m      3\u001b[0m \u001b[0mresult\u001b[0m \u001b[1;33m=\u001b[0m \u001b[0mpd\u001b[0m\u001b[1;33m.\u001b[0m\u001b[0mDataFrame\u001b[0m\u001b[1;33m(\u001b[0m\u001b[1;33m{\u001b[0m\u001b[1;34m\"id\"\u001b[0m\u001b[1;33m:\u001b[0m\u001b[0mtest\u001b[0m\u001b[1;33m.\u001b[0m\u001b[0mid\u001b[0m\u001b[1;33m,\u001b[0m \u001b[1;34m\"price\"\u001b[0m\u001b[1;33m:\u001b[0m\u001b[0mpreds\u001b[0m\u001b[1;33m}\u001b[0m\u001b[1;33m)\u001b[0m\u001b[1;33m\u001b[0m\u001b[0m\n\u001b[1;32m      4\u001b[0m \u001b[0mresult\u001b[0m\u001b[1;33m.\u001b[0m\u001b[0mto_csv\u001b[0m\u001b[1;33m(\u001b[0m\u001b[1;34m'result.csv'\u001b[0m\u001b[1;33m,\u001b[0m \u001b[0mindex\u001b[0m \u001b[1;33m=\u001b[0m \u001b[1;32mFalse\u001b[0m\u001b[1;33m)\u001b[0m\u001b[1;33m\u001b[0m\u001b[0m\n",
      "\u001b[0;31mNameError\u001b[0m: name 'lasso_preds' is not defined"
     ]
    }
   ],
   "source": [
    "\n",
    "preds = lasso_preds\n",
    "result = pd.DataFrame({\"id\":test.id, \"price\":preds})\n",
    "result.to_csv('result.csv', index = False)\n"
   ]
  },
  {
   "cell_type": "code",
   "execution_count": null,
   "metadata": {
    "collapsed": true
   },
   "outputs": [],
   "source": []
  }
 ],
 "metadata": {
  "anaconda-cloud": {},
  "kernelspec": {
   "display_name": "Python [default]",
   "language": "python",
   "name": "python3"
  },
  "language_info": {
   "codemirror_mode": {
    "name": "ipython",
    "version": 3
   },
   "file_extension": ".py",
   "mimetype": "text/x-python",
   "name": "python",
   "nbconvert_exporter": "python",
   "pygments_lexer": "ipython3",
   "version": "3.5.6"
  }
 },
 "nbformat": 4,
 "nbformat_minor": 1
}
